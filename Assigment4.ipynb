{
 "cells": [
  {
   "cell_type": "code",
   "execution_count": 1,
   "id": "b17ca605",
   "metadata": {},
   "outputs": [
    {
     "name": "stdout",
     "output_type": "stream",
     "text": [
      "The product of the numbers in the list is: 120\n"
     ]
    }
   ],
   "source": [
    "#1. Write a Python function to multiply all the numbers in a list.\n",
    "def multiply_list(numbers):\n",
    "    result = 1  # Initialize the result to 1\n",
    "    for number in numbers:\n",
    "        result *= number\n",
    "    return result\n",
    "\n",
    "my_list = [2, 3, 4, 5]\n",
    "product = multiply_list(my_list)\n",
    "print(\"The product of the numbers in the list is:\", product)\n"
   ]
  },
  {
   "cell_type": "code",
   "execution_count": 2,
   "id": "be850859",
   "metadata": {},
   "outputs": [
    {
     "name": "stdout",
     "output_type": "stream",
     "text": [
      "Reversed string using for loop: !dlroW ,olleH\n"
     ]
    }
   ],
   "source": [
    "\"\"\"2. Write a Python function to reverse a string\n",
    "i) use for loop\n",
    "ii) use while loop\"\"\"\n",
    "def reverse_string_for_loop(input_string):\n",
    "    reversed_string = ''\n",
    "    for char in input_string:\n",
    "        reversed_string = char + reversed_string\n",
    "    return reversed_string\n",
    "\n",
    "original_string = \"Hello, World!\"\n",
    "reversed_result = reverse_string_for_loop(original_string)\n",
    "print(\"Reversed string using for loop:\", reversed_result)\n"
   ]
  },
  {
   "cell_type": "code",
   "execution_count": 3,
   "id": "5d5212f4",
   "metadata": {},
   "outputs": [
    {
     "name": "stdout",
     "output_type": "stream",
     "text": [
      "Reversed string using while loop: !dlroW ,olleH\n"
     ]
    }
   ],
   "source": [
    "#using while loop\n",
    "def reverse_string_while_loop(input_string):\n",
    "    reversed_string = ''\n",
    "    index = len(input_string) - 1\n",
    "    while index >= 0:\n",
    "        reversed_string += input_string[index]\n",
    "        index -= 1\n",
    "    return reversed_string\n",
    "\n",
    "original_string = \"Hello, World!\"\n",
    "reversed_result = reverse_string_while_loop(original_string)\n",
    "print(\"Reversed string using while loop:\", reversed_result)\n"
   ]
  },
  {
   "cell_type": "code",
   "execution_count": 6,
   "id": "a7db3ad0",
   "metadata": {},
   "outputs": [
    {
     "name": "stdout",
     "output_type": "stream",
     "text": [
      "Addition result: 8\n"
     ]
    }
   ],
   "source": [
    "#3. Write a function to add and subtract two variables\n",
    "def add_numbers(a, b):\n",
    "    return a + b\n",
    "\n",
    "# Example usage:\n",
    "result_addition = add_numbers(5, 3)\n",
    "print(\"Addition result:\", result_addition)\n"
   ]
  },
  {
   "cell_type": "code",
   "execution_count": 7,
   "id": "1426da33",
   "metadata": {},
   "outputs": [
    {
     "name": "stdout",
     "output_type": "stream",
     "text": [
      "Subtraction result: 6\n"
     ]
    }
   ],
   "source": [
    "def subtract_numbers(a, b):\n",
    "    return a - b\n",
    "\n",
    "# Example usage:\n",
    "result_subtraction = subtract_numbers(10, 4)\n",
    "print(\"Subtraction result:\", result_subtraction)\n"
   ]
  },
  {
   "cell_type": "code",
   "execution_count": 8,
   "id": "5647cc6e",
   "metadata": {},
   "outputs": [
    {
     "name": "stdout",
     "output_type": "stream",
     "text": [
      "30 days is equal to 4 weeks and 2 days.\n"
     ]
    }
   ],
   "source": [
    "#4.Write a function to calculate the number of days and weeks\n",
    "def calculate_weeks_and_days(total_days):\n",
    "    weeks = total_days // 7\n",
    "    remaining_days = total_days % 7\n",
    "    return weeks, remaining_days\n",
    "\n",
    "total_days = 30\n",
    "weeks, days = calculate_weeks_and_days(total_days)\n",
    "print(f\"{total_days} days is equal to {weeks} weeks and {days} days.\")\n"
   ]
  },
  {
   "cell_type": "code",
   "execution_count": 9,
   "id": "e55dbd6f",
   "metadata": {},
   "outputs": [
    {
     "name": "stdout",
     "output_type": "stream",
     "text": [
      "36 is divisible by 12.\n"
     ]
    }
   ],
   "source": [
    "#5. Write a function to check the number is divisible by 12\n",
    "def is_divisible_by_12(number):\n",
    "    if number % 12 == 0:\n",
    "        return True\n",
    "    else:\n",
    "        return False\n",
    "\n",
    "num = 36\n",
    "if is_divisible_by_12(num):\n",
    "    print(f\"{num} is divisible by 12.\")\n",
    "else:\n",
    "    print(f\"{num} is not divisible by 12.\")\n"
   ]
  },
  {
   "cell_type": "code",
   "execution_count": 10,
   "id": "46dc6e05",
   "metadata": {},
   "outputs": [
    {
     "name": "stdout",
     "output_type": "stream",
     "text": [
      "5! = 120\n"
     ]
    }
   ],
   "source": [
    "#6.Write a Python function to Find the 5!\n",
    "def factorial(n):\n",
    "    result = 1\n",
    "    for i in range(1, n + 1):\n",
    "        result *= i\n",
    "    return result\n",
    "\n",
    "# Example usage to find 5!\n",
    "result = factorial(5)\n",
    "print(\"5! =\", result)\n"
   ]
  },
  {
   "cell_type": "code",
   "execution_count": 11,
   "id": "9dd6ff3d",
   "metadata": {},
   "outputs": [
    {
     "name": "stdout",
     "output_type": "stream",
     "text": [
      "Unique elements in the list: [1, 2, 3, 4, 5, 34, 7, 6, 654]\n"
     ]
    }
   ],
   "source": [
    "#7. Write a Python function to find the unique elements of the list = [1,2,3,3,3,3,4,5,4,2,4,2,4,4,2,4,5,4,34,654,5,7,6,5,4,3]\n",
    "\n",
    "def find_unique_elements(input_list):\n",
    "    unique_elements = list(set(input_list))\n",
    "    return unique_elements\n",
    "\n",
    "my_list = [1, 2, 3, 3, 3, 3, 4, 5, 4, 2, 4, 2, 4, 4, 2, 4, 5, 4, 34, 654, 5, 7, 6, 5, 4, 3]\n",
    "unique_elements_list = find_unique_elements(my_list)\n",
    "print(\"Unique elements in the list:\", unique_elements_list)\n"
   ]
  },
  {
   "cell_type": "code",
   "execution_count": 16,
   "id": "933c6282",
   "metadata": {},
   "outputs": [
    {
     "name": "stdout",
     "output_type": "stream",
     "text": [
      "Enter the principal amount: 80000\n",
      "Enter the rate of interest: 22\n",
      "Enter the time period (in years): 1\n",
      "Simple Interest: 17600.0\n"
     ]
    }
   ],
   "source": [
    "#Write a program to calculate Simple Interest which accepts three arguments and returns the simple interest accordingly\n",
    "def calculate_simple_interest(principal, rate, time):\n",
    "  \n",
    "    interest = (principal * rate * time) / 100\n",
    "    return interest\n",
    "\n",
    "\n",
    "principal_amount = float(input(\"Enter the principal amount: \"))\n",
    "rate_of_interest = float(input(\"Enter the rate of interest: \"))\n",
    "time_period = float(input(\"Enter the time period (in years): \"))\n",
    "\n",
    "simple_interest = calculate_simple_interest(principal_amount, rate_of_interest, time_period)\n",
    "print(f\"Simple Interest: {simple_interest}\")\n"
   ]
  },
  {
   "cell_type": "code",
   "execution_count": 21,
   "id": "468508ec",
   "metadata": {},
   "outputs": [
    {
     "name": "stdout",
     "output_type": "stream",
     "text": [
      "Printing the message with 'Mohana' and 'Hello, Welcome!'\n"
     ]
    }
   ],
   "source": [
    "#Keyword arguments:\n",
    "#Write a function which will be called with the name and message as the keyword arguments. Output will be printing the message with 'name' and  message\"\"\"\"\n",
    "\n",
    "def print_message(**kwargs):\n",
    "    name = kwargs.get('name', 'Name not specified')\n",
    "    message = kwargs.get('message', 'Message not specified')\n",
    "    print(f\"Printing the message with '{name}' and '{message}'\")\n",
    "\n",
    "print_message(name='Mohana', message='Hello, Welcome!')\n"
   ]
  },
  {
   "cell_type": "code",
   "execution_count": 22,
   "id": "05318c5f",
   "metadata": {},
   "outputs": [
    {
     "name": "stdout",
     "output_type": "stream",
     "text": [
      "My name is 'Mohana' and 'age is 27'\n",
      "My name is 'Priya' and 'age is 24'\n"
     ]
    }
   ],
   "source": [
    "#Write a function which will be called with the name as keyword argument and age as the default arguments. Output will be \"My name is 'name' and 'age is 27'\"\n",
    "def print_name_and_age(name, age=27):\n",
    "    print(f\"My name is '{name}' and 'age is {age}'\")\n",
    "\n",
    "print_name_and_age(name='Mohana')\n",
    "\n",
    "print_name_and_age(name='Priya', age=24)\n"
   ]
  },
  {
   "cell_type": "code",
   "execution_count": 26,
   "id": "5d6e54b9",
   "metadata": {},
   "outputs": [
    {
     "name": "stdout",
     "output_type": "stream",
     "text": [
      "Enter a number: 3\n",
      "3 is an odd number.\n"
     ]
    }
   ],
   "source": [
    "#Lambda function\n",
    "#Get a number from user,  find if it is even or odd number?\n",
    "\n",
    "number = input(\"Enter a number: \")\n",
    "\n",
    "# Define a lambda function to check if a number is even\n",
    "is_even = lambda x: int(x) % 2 == 0 if x.isdigit() else None\n",
    "\n",
    "# Check if the lambda function returned a result and print the result\n",
    "result = is_even(number)\n",
    "if result is not None:\n",
    "    if result:\n",
    "        print(f\"{number} is an even number.\")\n",
    "    else:\n",
    "        print(f\"{number} is an odd number.\")\n",
    "else:\n",
    "    print(\"Please enter a valid integer.\")\n"
   ]
  },
  {
   "cell_type": "code",
   "execution_count": 27,
   "id": "21c09b0c",
   "metadata": {},
   "outputs": [
    {
     "name": "stdout",
     "output_type": "stream",
     "text": [
      "Enter a number: 5\n",
      "The square of 5.0 is 25.0\n"
     ]
    }
   ],
   "source": [
    "#Take a input from user and  square it\n",
    "\n",
    "number = float(input(\"Enter a number: \"))\n",
    "\n",
    "# Define a lambda function to square the number\n",
    "square = lambda x: x ** 2\n",
    "result = square(number)\n",
    "\n",
    "print(f\"The square of {number} is {result}\")\n"
   ]
  },
  {
   "cell_type": "code",
   "execution_count": 28,
   "id": "c2218849",
   "metadata": {},
   "outputs": [
    {
     "name": "stdout",
     "output_type": "stream",
     "text": [
      "True\n",
      "False\n"
     ]
    }
   ],
   "source": [
    "\"\"\"Write a lambda function using logical operators?\n",
    "\n",
    "Hint:\n",
    "Check x < 10\n",
    "Output: False / True\"\"\"\n",
    "# Define a lambda function to check if x is less than 10\n",
    "is_less_than_10 = lambda x: x < 10\n",
    "\n",
    "# Test the lambda function with different values of x\n",
    "result1 = is_less_than_10(5)\n",
    "result2 = is_less_than_10(12)\n",
    "\n",
    "print(result1)  # Output: True\n",
    "print(result2)  # Output: False\n"
   ]
  },
  {
   "cell_type": "code",
   "execution_count": 29,
   "id": "e71ed7ca",
   "metadata": {},
   "outputs": [
    {
     "name": "stdout",
     "output_type": "stream",
     "text": [
      "Enter an integer: 15\n",
      "The result after adding 5 to 15 is 20\n"
     ]
    }
   ],
   "source": [
    "#Take an integer input from the user,  add 5 to the number and print it back?\n",
    "\n",
    "number = int(input(\"Enter an integer: \"))\n",
    "\n",
    "# Define a lambda function to add 5 to the input\n",
    "add_5 = lambda x: x + 5\n",
    "\n",
    "result = add_5(number)\n",
    "\n",
    "print(f\"The result after adding 5 to {number} is {result}\")\n",
    "\n"
   ]
  },
  {
   "cell_type": "code",
   "execution_count": 30,
   "id": "b941b54b",
   "metadata": {},
   "outputs": [
    {
     "name": "stdout",
     "output_type": "stream",
     "text": [
      "[53, 78, 105]\n"
     ]
    }
   ],
   "source": [
    "#MAP\n",
    "\"\"\"1. Add two lists using map ()\n",
    "    lis1 = [12, 24, 36]\n",
    "    lis2 = [41, 54, 69]\n",
    "   \n",
    "    Output:\n",
    "    [53, 78, 105]\"\"\"\n",
    "list1 = [12, 24, 36]\n",
    "list2 = [41, 54, 69]\n",
    "\n",
    "# Use map and a lambda function to add the elements of the two lists\n",
    "result = list(map(lambda x, y: x + y, list1, list2))\n",
    "\n",
    "print(result)\n",
    "\n"
   ]
  },
  {
   "cell_type": "code",
   "execution_count": 31,
   "id": "9b4ee51b",
   "metadata": {},
   "outputs": [
    {
     "name": "stdout",
     "output_type": "stream",
     "text": [
      "[1, 4, 9, 16, 25, 36, 49]\n"
     ]
    }
   ],
   "source": [
    "#2. Use Lambda and map functions on a List, to square each element in the list = [1, 2, 3, 4, 5, 6, 7]\n",
    "input_list = [1, 2, 3, 4, 5, 6, 7]\n",
    "\n",
    "# Use map and a lambda function to square each element in the list\n",
    "squared_list = list(map(lambda x: x**2, input_list))\n",
    "\n",
    "print(squared_list)\n",
    "\n"
   ]
  },
  {
   "cell_type": "code",
   "execution_count": 32,
   "id": "26c94bbd",
   "metadata": {},
   "outputs": [
    {
     "name": "stdout",
     "output_type": "stream",
     "text": [
      "Even elements: [2, 4, 6]\n",
      "Odd elements: [1, 3, 5, 7]\n"
     ]
    }
   ],
   "source": [
    "#3.In the given list [1, 2, 3, 4, 5, 6, 7], find the even and odd elements in the list, use the map()function\n",
    "input_list = [1, 2, 3, 4, 5, 6, 7]\n",
    "\n",
    "# Use map and a lambda function to categorize even and odd elements\n",
    "even_list = list(map(lambda x: x if x % 2 == 0 else None, input_list))\n",
    "odd_list = list(map(lambda x: x if x % 2 != 0 else None, input_list))\n",
    "\n",
    "# Filter out None values to get even and odd lists\n",
    "even_list = list(filter(None, even_list))\n",
    "odd_list = list(filter(None, odd_list))\n",
    "\n",
    "print(\"Even elements:\", even_list)\n",
    "print(\"Odd elements:\", odd_list)\n"
   ]
  },
  {
   "cell_type": "code",
   "execution_count": 33,
   "id": "02614b39",
   "metadata": {},
   "outputs": [
    {
     "name": "stdout",
     "output_type": "stream",
     "text": [
      "[1, 1, 1, 2, 62, 0, 3]\n"
     ]
    }
   ],
   "source": [
    "#4. In the given list [11, 12, 13, 14, 435, 6, 27], perform the Floor division using 7 on each elements on the list\n",
    "input_list = [11, 12, 13, 14, 435, 6, 27]\n",
    "\n",
    "# Use map and a lambda function to perform floor division by 7 on each element\n",
    "result = list(map(lambda x: x // 7, input_list))\n",
    "\n",
    "print(result)\n",
    "\n"
   ]
  },
  {
   "cell_type": "code",
   "execution_count": 34,
   "id": "e5489a7b",
   "metadata": {},
   "outputs": [
    {
     "name": "stdout",
     "output_type": "stream",
     "text": [
      "[3, 43, 455, 43, 543]\n"
     ]
    }
   ],
   "source": [
    "#Filters\n",
    "#1.Using the given list lis1 = [3,12, 24, 36,43,654,65432,2,654,455,43,543] filter the numbers in list which are not divisible by 2\n",
    "\n",
    "lis1 = [3, 12, 24, 36, 43, 654, 65432, 2, 654, 455, 43, 543]\n",
    "\n",
    "# Use filter and a lambda function to filter numbers that are not divisible by 2\n",
    "filtered_list = list(filter(lambda x: x % 2 != 0, lis1))\n",
    "\n",
    "print(filtered_list)\n"
   ]
  },
  {
   "cell_type": "code",
   "execution_count": 35,
   "id": "57cb41f0",
   "metadata": {},
   "outputs": [
    {
     "name": "stdout",
     "output_type": "stream",
     "text": [
      "[2, 4, 6]\n"
     ]
    }
   ],
   "source": [
    "#2.For a given list1 = [1, 2, 3, 4, 5, 6] filter only the even numbers (Use filter).\n",
    "\n",
    "list1 = [1, 2, 3, 4, 5, 6]\n",
    "\n",
    "# Use filter and a lambda function to filter even numbers\n",
    "even_numbers = list(filter(lambda x: x % 2 == 0, list1))\n",
    "\n",
    "print(even_numbers)\n"
   ]
  },
  {
   "cell_type": "code",
   "execution_count": 36,
   "id": "69eeab90",
   "metadata": {},
   "outputs": [
    {
     "name": "stdout",
     "output_type": "stream",
     "text": [
      "[2, 6, 4, 6]\n"
     ]
    }
   ],
   "source": [
    "#3. For a given list = [2,3,5,3,6,3,7,4,6,7] filter only the even numbers using user defined function.\n",
    "def is_even(num):\n",
    "    return num % 2 == 0\n",
    "\n",
    "my_list = [2, 3, 5, 3, 6, 3, 7, 4, 6, 7]\n",
    "\n",
    "# Use a user-defined function to filter even numbers\n",
    "even_numbers = list(filter(is_even, my_list))\n",
    "\n",
    "print(even_numbers)\n"
   ]
  },
  {
   "cell_type": "code",
   "execution_count": 37,
   "id": "4a33a0fe",
   "metadata": {},
   "outputs": [
    {
     "name": "stdout",
     "output_type": "stream",
     "text": [
      "[1, 31, 15, 7]\n"
     ]
    }
   ],
   "source": [
    "#4. For a given list = [1, 12, 31, 4, 15, 6, 7] filter only the odd numbers using user defined function.\n",
    "def is_odd(num):\n",
    "    return num % 2 != 0\n",
    "\n",
    "my_list = [1, 12, 31, 4, 15, 6, 7]\n",
    "\n",
    "# Use a user-defined function to filter odd numbers\n",
    "odd_numbers = list(filter(is_odd, my_list))\n",
    "\n",
    "print(odd_numbers)\n"
   ]
  },
  {
   "cell_type": "code",
   "execution_count": 39,
   "id": "3c44c5e4",
   "metadata": {},
   "outputs": [
    {
     "name": "stdout",
     "output_type": "stream",
     "text": [
      "The result of multiplying all elements: 24\n"
     ]
    }
   ],
   "source": [
    "#REDUCE\n",
    "#1.For list = [1, 2, 3, 4] multiply all the elements (use reduce function)\n",
    "from functools import reduce\n",
    "my_list = [1, 2, 3, 4]\n",
    "\n",
    "# Define a function to multiply two numbers\n",
    "def multiply(x, y):\n",
    "    return x * y\n",
    "# Using the reduce function to multiply all elements in the list\n",
    "result = reduce(multiply, my_list)\n",
    "\n",
    "print(\"The result of multiplying all elements:\", result)\n"
   ]
  },
  {
   "cell_type": "code",
   "execution_count": 40,
   "id": "824a61ff",
   "metadata": {},
   "outputs": [
    {
     "name": "stdout",
     "output_type": "stream",
     "text": [
      "The sum of all elements: 100\n"
     ]
    }
   ],
   "source": [
    "#2. For list = [ 11 , 13, 15, 16, 2,43 ]  sum all the elements (use reduce function)\n",
    "from functools import reduce\n",
    "\n",
    "my_list = [11, 13, 15, 16, 2, 43]\n",
    "\n",
    "# Use the reduce function to sum all elements in the list\n",
    "result = reduce(lambda x, y: x + y, my_list)\n",
    "\n",
    "print(\"The sum of all elements:\", result)\n"
   ]
  },
  {
   "cell_type": "code",
   "execution_count": 41,
   "id": "348741a0",
   "metadata": {},
   "outputs": [
    {
     "name": "stdout",
     "output_type": "stream",
     "text": [
      "The maximum value in the list: 4567\n"
     ]
    }
   ],
   "source": [
    "#3. Find the maximum value in the list = [543,7,6,4567,7,78,6,6,78,765,678] (use reduce function)\n",
    "from functools import reduce\n",
    "my_list = [543, 7, 6, 4567, 7, 78, 6, 6, 78, 765, 678]\n",
    "# Define a function to find the maximum of two numbers\n",
    "def find_max(x, y):\n",
    "    return x if x > y else y\n",
    "\n",
    "# Use the reduce function to find the maximum value in the list\n",
    "max_value = reduce(find_max, my_list)\n",
    "\n",
    "print(\"The maximum value in the list:\", max_value)\n"
   ]
  },
  {
   "cell_type": "code",
   "execution_count": 42,
   "id": "c3bb7435",
   "metadata": {},
   "outputs": [
    {
     "name": "stdout",
     "output_type": "stream",
     "text": [
      "The minimum value in the list: 6\n"
     ]
    }
   ],
   "source": [
    "#4. Find the minimum value in the list= [543,7,6,4567,7,78,6,6,78,765,678] (use reduce function)\n",
    "\n",
    "from functools import reduce\n",
    "my_list = [543, 7, 6, 4567, 7, 78, 6, 6, 78, 765, 678]\n",
    "\n",
    "# Define a function to find the minimum of two numbers\n",
    "def find_min(x, y):\n",
    "    return x if x < y else y\n",
    "\n",
    "# Use the reduce function to find the minimum value in the list\n",
    "min_value = reduce(find_min, my_list)\n",
    "\n",
    "print(\"The minimum value in the list:\", min_value)\n"
   ]
  },
  {
   "cell_type": "code",
   "execution_count": null,
   "id": "d21d91e6",
   "metadata": {},
   "outputs": [],
   "source": []
  }
 ],
 "metadata": {
  "kernelspec": {
   "display_name": "Python 3 (ipykernel)",
   "language": "python",
   "name": "python3"
  },
  "language_info": {
   "codemirror_mode": {
    "name": "ipython",
    "version": 3
   },
   "file_extension": ".py",
   "mimetype": "text/x-python",
   "name": "python",
   "nbconvert_exporter": "python",
   "pygments_lexer": "ipython3",
   "version": "3.11.4"
  }
 },
 "nbformat": 4,
 "nbformat_minor": 5
}

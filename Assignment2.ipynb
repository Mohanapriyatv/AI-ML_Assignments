{
 "cells": [
  {
   "cell_type": "code",
   "execution_count": 1,
   "id": "b15e8054",
   "metadata": {},
   "outputs": [
    {
     "data": {
      "text/plain": [
       "['Rose', 'Tulip', 'Lily', 'Sunflower', 'Daisy']"
      ]
     },
     "execution_count": 1,
     "metadata": {},
     "output_type": "execute_result"
    }
   ],
   "source": [
    "flowers = [\"Rose\", \"Tulip\", \"Lily\", \"Sunflower\", \"Daisy\"]\n",
    "flowers\n"
   ]
  },
  {
   "cell_type": "code",
   "execution_count": 2,
   "id": "e8704120",
   "metadata": {},
   "outputs": [
    {
     "name": "stdout",
     "output_type": "stream",
     "text": [
      "['Rose', 'Tulip', 'Lily', 'Sunflower', 'Daisy', 'Rose', 'Tulip', 'Lily', 'Sunflower', 'Daisy', 'Rose', 'Tulip', 'Lily', 'Sunflower', 'Daisy']\n"
     ]
    }
   ],
   "source": [
    "#Repetition (*)\n",
    "repeated_flowers = flowers * 3  # Repeats the list 3 times\n",
    "print(repeated_flowers)\n"
   ]
  },
  {
   "cell_type": "code",
   "execution_count": 3,
   "id": "959e45e6",
   "metadata": {},
   "outputs": [
    {
     "name": "stdout",
     "output_type": "stream",
     "text": [
      "['Rose', 'Tulip', 'Lily', 'Sunflower', 'Daisy', 'Orchid', 'Carnation']\n"
     ]
    }
   ],
   "source": [
    "# Concatenation (+)\n",
    "\n",
    "additional_flowers = [\"Orchid\", \"Carnation\"]\n",
    "combined_flowers = flowers + additional_flowers\n",
    "print(combined_flowers)\n"
   ]
  },
  {
   "cell_type": "code",
   "execution_count": 4,
   "id": "d08c564d",
   "metadata": {},
   "outputs": [
    {
     "name": "stdout",
     "output_type": "stream",
     "text": [
      "Rose is in the list\n"
     ]
    }
   ],
   "source": [
    "#Membership\n",
    "if \"Rose\" in flowers:\n",
    "    print(\"Rose is in the list\")\n"
   ]
  },
  {
   "cell_type": "code",
   "execution_count": 5,
   "id": "d8703696",
   "metadata": {},
   "outputs": [
    {
     "name": "stdout",
     "output_type": "stream",
     "text": [
      "The length of the list is 5\n"
     ]
    }
   ],
   "source": [
    "# Length\n",
    "list_length = len(flowers)\n",
    "print(\"The length of the list is\", list_length)\n"
   ]
  },
  {
   "cell_type": "code",
   "execution_count": 6,
   "id": "97f58cee",
   "metadata": {},
   "outputs": [
    {
     "name": "stdout",
     "output_type": "stream",
     "text": [
      "Rose\n",
      "Tulip\n",
      "Lily\n",
      "Sunflower\n",
      "Daisy\n"
     ]
    }
   ],
   "source": [
    "# Iteration\n",
    "for flower in flowers:\n",
    "    print(flower)\n"
   ]
  },
  {
   "cell_type": "code",
   "execution_count": 7,
   "id": "a879a5ee",
   "metadata": {},
   "outputs": [
    {
     "name": "stdout",
     "output_type": "stream",
     "text": [
      "Max value in List1: 2700\n",
      "Max value in List2: 12\n",
      "Max value in List3: 567\n"
     ]
    }
   ],
   "source": [
    "#2.1. Create your own lists to perform the below Python List Built-in functions?\n",
    "#otherwise use the\n",
    "                  # List1 = [15, 300, 2700, 821]\n",
    "                   #List2 = [12, 2]\n",
    "                   #List3 = [34, 567, 78]\n",
    "   #A.  max(list)    \n",
    "   #B.  min(list)    \n",
    "   #C.  list(seq)      \n",
    "\n",
    "List1 = [15, 300, 2700, 821]\n",
    "List2 = [12, 2]\n",
    "List3 = [34, 567, 78]\n",
    "#max(list) \n",
    "max_value_list1 = max(List1)\n",
    "max_value_list2 = max(List2)\n",
    "max_value_list3 = max(List3)\n",
    "\n",
    "print(\"Max value in List1:\", max_value_list1)\n",
    "print(\"Max value in List2:\", max_value_list2)\n",
    "print(\"Max value in List3:\", max_value_list3)\n"
   ]
  },
  {
   "cell_type": "code",
   "execution_count": 8,
   "id": "9ca982fb",
   "metadata": {},
   "outputs": [
    {
     "name": "stdout",
     "output_type": "stream",
     "text": [
      "Min value in List1: 15\n",
      "Min value in List2: 2\n",
      "Min value in List3: 34\n"
     ]
    }
   ],
   "source": [
    "#min(list)\n",
    "\n",
    "min_value_list1 = min(List1)\n",
    "min_value_list2 = min(List2)\n",
    "min_value_list3 = min(List3)\n",
    "\n",
    "print(\"Min value in List1:\", min_value_list1)\n",
    "print(\"Min value in List2:\", min_value_list2)\n",
    "print(\"Min value in List3:\", min_value_list3)\n"
   ]
  },
  {
   "cell_type": "code",
   "execution_count": 9,
   "id": "c9a86fc7",
   "metadata": {},
   "outputs": [
    {
     "name": "stdout",
     "output_type": "stream",
     "text": [
      "List created from a sequence: [1, 2, 3, 4, 5]\n"
     ]
    }
   ],
   "source": [
    "# list(seq)\n",
    "seq = (1, 2, 3, 4, 5)  # Example sequence\n",
    "list_from_seq = list(seq)\n",
    "\n",
    "print(\"List created from a sequence:\", list_from_seq)\n"
   ]
  },
  {
   "cell_type": "code",
   "execution_count": 15,
   "id": "3aabb645",
   "metadata": {},
   "outputs": [
    {
     "name": "stdout",
     "output_type": "stream",
     "text": [
      "My List: [10, 20, 30, 40, 20, 50]\n",
      "Appended List: [10, 20, 30, 40, 20, 50, 60]\n"
     ]
    }
   ],
   "source": [
    "\"\"\"3. Create your own lists to perform the below Python List built-in methods\n",
    "   A.  list.append()\n",
    "   B.  list.clear()   \n",
    "   C.  List.copy()          \n",
    "   D.  list.count()         \n",
    "   E.  list.extend()    \n",
    "   F.  list.index()\n",
    "   G.  list.insert()  \n",
    "   H.  list.pop() \n",
    "   I.  list.remove()    \n",
    "   J.  list.reverse()         \n",
    "   K.  list.sort()  \n",
    "\"\"\"\n",
    "\n",
    "my_list = [10, 20, 30, 40, 20, 50]\n",
    "print(\"My List:\",my_list)\n",
    "#list.append()\n",
    "my_list.append(60)\n",
    "print(\"Appended List:\",my_list)\n"
   ]
  },
  {
   "cell_type": "code",
   "execution_count": 19,
   "id": "e36f33d9",
   "metadata": {},
   "outputs": [
    {
     "name": "stdout",
     "output_type": "stream",
     "text": [
      "[]\n"
     ]
    }
   ],
   "source": [
    "#list.clear()\n",
    "#my_list.clear()\n",
    "print(my_list)\n"
   ]
  },
  {
   "cell_type": "code",
   "execution_count": 20,
   "id": "f579770c",
   "metadata": {},
   "outputs": [
    {
     "name": "stdout",
     "output_type": "stream",
     "text": [
      "[10, 20, 30, 40, 20, 50]\n"
     ]
    }
   ],
   "source": [
    "#list.copy()\n",
    "my_new_list = [10, 20, 30, 40, 20, 50]\n",
    "new_list = my_new_list.copy()\n",
    "print(new_list)\n"
   ]
  },
  {
   "cell_type": "code",
   "execution_count": 21,
   "id": "f7c2f1f2",
   "metadata": {},
   "outputs": [
    {
     "name": "stdout",
     "output_type": "stream",
     "text": [
      "Count of 20 in the list: 2\n"
     ]
    }
   ],
   "source": [
    "#list.count()\n",
    "count = my_new_list.count(20)\n",
    "print(\"Count of 20 in the list:\", count)\n"
   ]
  },
  {
   "cell_type": "code",
   "execution_count": 23,
   "id": "fb9d75ab",
   "metadata": {},
   "outputs": [
    {
     "name": "stdout",
     "output_type": "stream",
     "text": [
      "[10, 20, 30, 40, 20, 50, 70, 80, 90]\n"
     ]
    }
   ],
   "source": [
    "#list.extend()\n",
    "extension = [70, 80, 90]\n",
    "my_new_list.extend(extension)\n",
    "print( my_new_list)\n"
   ]
  },
  {
   "cell_type": "code",
   "execution_count": 24,
   "id": "32898111",
   "metadata": {},
   "outputs": [
    {
     "name": "stdout",
     "output_type": "stream",
     "text": [
      "Index of 40 in the list: 3\n"
     ]
    }
   ],
   "source": [
    "#list.index()\n",
    "index = my_new_list.index(40)\n",
    "print(\"Index of 40 in the list:\", index)\n"
   ]
  },
  {
   "cell_type": "code",
   "execution_count": 25,
   "id": "49af696e",
   "metadata": {},
   "outputs": [
    {
     "name": "stdout",
     "output_type": "stream",
     "text": [
      "[10, 20, 35, 30, 40, 20, 50, 70, 80, 90]\n"
     ]
    }
   ],
   "source": [
    "#list.insert()\n",
    "my_new_list.insert(2, 35)\n",
    "print(my_new_list)\n"
   ]
  },
  {
   "cell_type": "code",
   "execution_count": 26,
   "id": "ea7539f1",
   "metadata": {},
   "outputs": [
    {
     "name": "stdout",
     "output_type": "stream",
     "text": [
      "Popped element: 90\n"
     ]
    }
   ],
   "source": [
    "#list.pop()\n",
    "popped_element = my_new_list.pop()\n",
    "print(\"Popped element:\", popped_element)\n"
   ]
  },
  {
   "cell_type": "code",
   "execution_count": 27,
   "id": "55ddb9e7",
   "metadata": {},
   "outputs": [
    {
     "name": "stdout",
     "output_type": "stream",
     "text": [
      "[10, 35, 30, 40, 20, 50, 70, 80]\n"
     ]
    }
   ],
   "source": [
    "#list.remove()\n",
    "my_new_list.remove(20)\n",
    "print(my_new_list)\n"
   ]
  },
  {
   "cell_type": "code",
   "execution_count": 28,
   "id": "511c1ea5",
   "metadata": {},
   "outputs": [
    {
     "name": "stdout",
     "output_type": "stream",
     "text": [
      "[80, 70, 50, 20, 40, 30, 35, 10]\n"
     ]
    }
   ],
   "source": [
    "#list.reverse()\n",
    "my_new_list.reverse()\n",
    "print(my_new_list)\n"
   ]
  },
  {
   "cell_type": "code",
   "execution_count": 29,
   "id": "40d82f89",
   "metadata": {},
   "outputs": [
    {
     "name": "stdout",
     "output_type": "stream",
     "text": [
      "[10, 20, 30, 35, 40, 50, 70, 80]\n"
     ]
    }
   ],
   "source": [
    "#list.sort()\n",
    "my_new_list.sort()\n",
    "print(my_new_list)\n"
   ]
  },
  {
   "cell_type": "code",
   "execution_count": 35,
   "id": "b2ed1689",
   "metadata": {},
   "outputs": [
    {
     "name": "stdout",
     "output_type": "stream",
     "text": [
      "Repeated Tuples: ('a', 'b', 'c', 'd', 'a', 'b', 'c', 'd', 'a', 'b', 'c', 'd')\n"
     ]
    }
   ],
   "source": [
    "\"\"\"Create your own Tuple to perform the below Python tuple Operations ?\n",
    "otherwise use the below\n",
    "               Tuple1 = ('a','b','c','d')\n",
    "               Tuple2 = ('e','f','g','h')\n",
    "1. Tuple Operations\n",
    " \n",
    " \n",
    "   A. Repetition (*)\n",
    "   B. Concatenation (+)\n",
    "   C. Membership\n",
    "   D. Length\n",
    "   E. Iteration\"\"\"\n",
    "\n",
    "Tuple1 = ('a', 'b', 'c', 'd')\n",
    "Tuple2 = ('e', 'f', 'g', 'h')\n",
    "#Repetition (*) \n",
    "repeated_tuple1 = Tuple1 * 3  # Repeats Tuple1 3 times\n",
    "print(\"Repeated Tuples:\", repeated_tuple1)\n"
   ]
  },
  {
   "cell_type": "code",
   "execution_count": 36,
   "id": "47533866",
   "metadata": {},
   "outputs": [
    {
     "name": "stdout",
     "output_type": "stream",
     "text": [
      "Concatenated Tuples: ('a', 'b', 'c', 'd', 'e', 'f', 'g', 'h')\n"
     ]
    }
   ],
   "source": [
    "    # Concatenation (+)\n",
    "concatenated_tuples = Tuple1 + Tuple2\n",
    "print(\"Concatenated Tuples:\",concatenated_tuples)\n"
   ]
  },
  {
   "cell_type": "code",
   "execution_count": 37,
   "id": "541c1564",
   "metadata": {},
   "outputs": [
    {
     "name": "stdout",
     "output_type": "stream",
     "text": [
      "'a' is in Tuple1\n"
     ]
    }
   ],
   "source": [
    "# Membership \n",
    "if 'a' in Tuple1:\n",
    "    print(\"'a' is in Tuple1\")\n"
   ]
  },
  {
   "cell_type": "code",
   "execution_count": 38,
   "id": "448d6ff3",
   "metadata": {},
   "outputs": [
    {
     "name": "stdout",
     "output_type": "stream",
     "text": [
      "Length of Tuple1: 4\n",
      "Length of Tuple2: 4\n"
     ]
    }
   ],
   "source": [
    "#Length\n",
    "tuple1_length = len(Tuple1)\n",
    "tuple2_length = len(Tuple2)\n",
    "print(\"Length of Tuple1:\", tuple1_length)\n",
    "print(\"Length of Tuple2:\", tuple2_length)\n"
   ]
  },
  {
   "cell_type": "code",
   "execution_count": 39,
   "id": "18fa603f",
   "metadata": {},
   "outputs": [
    {
     "name": "stdout",
     "output_type": "stream",
     "text": [
      "a\n",
      "b\n",
      "c\n",
      "d\n"
     ]
    }
   ],
   "source": [
    "#Iteration \n",
    "for item in Tuple1:\n",
    "    print(item)\n"
   ]
  },
  {
   "cell_type": "code",
   "execution_count": 40,
   "id": "faf2afa5",
   "metadata": {},
   "outputs": [
    {
     "name": "stdout",
     "output_type": "stream",
     "text": [
      "Max value in Tuple1: 8765\n"
     ]
    }
   ],
   "source": [
    "\"\"\"Create your own Tuple to perform the below Python tuple inbuilt functions ?\n",
    "otherwise use the below\n",
    "           Tuple1 = (1,4,2,4,5,6,3,5,4,6,77,8,7,7,876,89,8765,4,5,1,876,9,3456,4234)\n",
    "       \n",
    "        A. max(Tuple)   \n",
    "        B. min(Tuple)     \n",
    "        C. Tuple(seq)\"\"\"\n",
    "Tuple1 = (1, 4, 2, 4, 5, 6, 3, 5, 4, 6, 77, 8, 7, 7, 876, 89, 8765, 4, 5, 1, 876, 9, 3456, 4234)\n",
    "#max(Tuple)\n",
    "max_value = max(Tuple1)\n",
    "print(\"Max value in Tuple1:\", max_value)\n"
   ]
  },
  {
   "cell_type": "code",
   "execution_count": 41,
   "id": "899f0300",
   "metadata": {},
   "outputs": [
    {
     "name": "stdout",
     "output_type": "stream",
     "text": [
      "Min value in Tuple1: 1\n"
     ]
    }
   ],
   "source": [
    "#min(Tuple)\n",
    "min_value = min(Tuple1)\n",
    "print(\"Min value in Tuple1:\", min_value)\n"
   ]
  },
  {
   "cell_type": "code",
   "execution_count": 42,
   "id": "da92ce2d",
   "metadata": {},
   "outputs": [
    {
     "name": "stdout",
     "output_type": "stream",
     "text": [
      "Tuple created from a list: (10, 20, 30, 40, 50)\n"
     ]
    }
   ],
   "source": [
    "#tuple(seq)\n",
    "list_seq = [10, 20, 30, 40, 50]\n",
    "tuple_from_list = tuple(list_seq)\n",
    "print(\"Tuple created from a list:\", tuple_from_list)\n"
   ]
  },
  {
   "cell_type": "code",
   "execution_count": 43,
   "id": "d8ddd7c1",
   "metadata": {},
   "outputs": [
    {
     "name": "stdout",
     "output_type": "stream",
     "text": [
      "Union of Set1 and Set2: {1, 2, 3, 4, 5, 6, 7, 8, 876, 77, 432, 54, 567}\n"
     ]
    }
   ],
   "source": [
    "\"\"\"Create your own Set to operate the below Python Set Operations ?\n",
    "otherwise use the below set:\n",
    "       Set1 = {1,4,2,4,5,6,3,5,4,6,77,8,7,7,876}\n",
    "       Set2 = {3,432,5,6,4,6,7,6,5,6,54,567,5}\n",
    "   \n",
    "1. Set Operations\n",
    "    A. Union\n",
    "    B. Intersection\n",
    "    C. Difference\n",
    "    D. Symmetric difference\"\"\"\n",
    "\n",
    "Set1 = {1, 4, 2, 4, 5, 6, 3, 5, 4, 6, 77, 8, 7, 7, 876}\n",
    "Set2 = {3, 432, 5, 6, 4, 6, 7, 6, 5, 6, 54, 567, 5}\n",
    "#Union\n",
    "union_set = Set1 | Set2\n",
    "print(\"Union of Set1 and Set2:\", union_set)\n"
   ]
  },
  {
   "cell_type": "code",
   "execution_count": 44,
   "id": "1cef518a",
   "metadata": {},
   "outputs": [
    {
     "name": "stdout",
     "output_type": "stream",
     "text": [
      "Intersection of Set1 and Set2: {3, 4, 5, 6, 7}\n"
     ]
    }
   ],
   "source": [
    "#Intersection\n",
    "intersection_set = Set1 & Set2\n",
    "print(\"Intersection of Set1 and Set2:\", intersection_set)\n"
   ]
  },
  {
   "cell_type": "code",
   "execution_count": 45,
   "id": "d377b50c",
   "metadata": {},
   "outputs": [
    {
     "name": "stdout",
     "output_type": "stream",
     "text": [
      "Difference between Set1 and Set2: {1, 2, 8, 876, 77}\n"
     ]
    }
   ],
   "source": [
    "#Difference \n",
    "\n",
    "difference_set = Set1 - Set2\n",
    "print(\"Difference between Set1 and Set2:\", difference_set)\n"
   ]
  },
  {
   "cell_type": "code",
   "execution_count": 46,
   "id": "c9c5b72a",
   "metadata": {},
   "outputs": [
    {
     "name": "stdout",
     "output_type": "stream",
     "text": [
      "Symmetric Difference between Set1 and Set2: {1, 2, 8, 876, 77, 432, 54, 567}\n"
     ]
    }
   ],
   "source": [
    "#Symmetric Difference\n",
    "\n",
    "symmetric_difference_set = Set1 ^ Set2\n",
    "print(\"Symmetric Difference between Set1 and Set2:\", symmetric_difference_set)\n"
   ]
  },
  {
   "cell_type": "code",
   "execution_count": 56,
   "id": "a7120deb",
   "metadata": {},
   "outputs": [
    {
     "name": "stdout",
     "output_type": "stream",
     "text": [
      "Length of the dictionary: 2\n"
     ]
    }
   ],
   "source": [
    "\"\"\"Create your own Dictionary to perform the below Python Built-in Dictionary functions\n",
    "otherwise use the below Dictionary:\n",
    "                           dict = {'Name': 'Student', 'Age': 27};\n",
    "   A.  len(dict)    \n",
    "   B.  str(dict)      \n",
    "   C.  type(variable)\"\"\"\n",
    "my_dict = {'Name': 'Mohanapriya', 'Age': 24}\n",
    "#Len()\n",
    "dict_length = len(my_dict)\n",
    "print(\"Length of the dictionary:\", dict_length)\n"
   ]
  },
  {
   "cell_type": "code",
   "execution_count": 57,
   "id": "d7245cda",
   "metadata": {},
   "outputs": [
    {
     "name": "stdout",
     "output_type": "stream",
     "text": [
      "Dictionary as a string: {'Name': 'Mohanapriya', 'Age': 24}\n"
     ]
    }
   ],
   "source": [
    "#str(dict)\n",
    "dict_as_string = str(my_dict)\n",
    "print(\"Dictionary as a string:\", dict_as_string)\n"
   ]
  },
  {
   "cell_type": "code",
   "execution_count": 58,
   "id": "3bb8ff0a",
   "metadata": {},
   "outputs": [
    {
     "name": "stdout",
     "output_type": "stream",
     "text": [
      "Type of the dictionary: <class 'dict'>\n"
     ]
    }
   ],
   "source": [
    "#type(variable)\n",
    "dict_type = type(my_dict)\n",
    "print(\"Type of the dictionary:\", dict_type)\n"
   ]
  },
  {
   "cell_type": "code",
   "execution_count": 61,
   "id": "8b5eaf1f",
   "metadata": {},
   "outputs": [
    {
     "name": "stdout",
     "output_type": "stream",
     "text": [
      "Dictionaries: {0: 'Data', 1: 'GUVI', 2: 'GEEK', 3: 'Python', 4: 'Happy'}\n",
      "Copy of the dictionary: {0: 'Data', 1: 'GUVI', 2: 'GEEK', 3: 'Python', 4: 'Happy'}\n"
     ]
    }
   ],
   "source": [
    "\"\"\"\n",
    "2.Create your own Dictionary to perform the below Python Built-in Dictionary methods\n",
    "otherwise use the below Dictionary:\n",
    "\n",
    "                           dictionaries = {0:\" Data\",1: \"GUVI\", 2: \"GEEK\",3:\"Python\",4:\"Happy\"}\n",
    "   A.  dic.clear()\n",
    "   B.  dict.copy()  \n",
    "   C.  dict.fromkeys()\n",
    "   D.  dict.get(key[, value])    \n",
    "   E.  dict.items()   \n",
    "   F.  dict.keys()   \n",
    "   G.  dict.setdefault()  \n",
    "   H.  dict.update()  \n",
    "   I.  dict.values() \"\"\"\n",
    "\n",
    "dictionaries = {0: \"Data\", 1: \"GUVI\", 2: \"GEEK\", 3: \"Python\", 4: \"Happy\"}\n",
    "print(\"Dictionaries:\",dictionaries)\n",
    "#dict.copy()\n",
    "copy_of_dict = dictionaries.copy()\n",
    "print(\"Copy of the dictionary:\", copy_of_dict)\n",
    "\n",
    "\n"
   ]
  },
  {
   "cell_type": "code",
   "execution_count": 62,
   "id": "70acda19",
   "metadata": {},
   "outputs": [
    {
     "name": "stdout",
     "output_type": "stream",
     "text": [
      "New dictionary from keys and value: {0: 'Sample', 1: 'Sample', 2: 'Sample'}\n"
     ]
    }
   ],
   "source": [
    "#dict.fromkeys(keys, value)\n",
    "keys = [0, 1, 2]\n",
    "value = \"Sample\"\n",
    "new_dict = dict.fromkeys(keys, value)\n",
    "print(\"New dictionary from keys and value:\", new_dict)\n"
   ]
  },
  {
   "cell_type": "code",
   "execution_count": 63,
   "id": "539406fa",
   "metadata": {},
   "outputs": [
    {
     "name": "stdout",
     "output_type": "stream",
     "text": [
      "Value for key 2: GEEK\n",
      "Value for key 5 (with default value): Key not found\n"
     ]
    }
   ],
   "source": [
    "#dict.get(key[, value])\n",
    "value = dictionaries.get(2, \"Key not found\")\n",
    "print(\"Value for key 2:\", value)\n",
    "\n",
    "value = dictionaries.get(5, \"Key not found\")\n",
    "print(\"Value for key 5 (with default value):\", value)\n"
   ]
  },
  {
   "cell_type": "code",
   "execution_count": 65,
   "id": "dce305a2",
   "metadata": {},
   "outputs": [
    {
     "name": "stdout",
     "output_type": "stream",
     "text": [
      "Key-value pairs: dict_items([(0, 'Data'), (1, 'GUVI'), (2, 'GEEK'), (3, 'Python'), (4, 'Happy')])\n",
      "Keys in the dictionary: dict_keys([0, 1, 2, 3, 4])\n"
     ]
    }
   ],
   "source": [
    "#dict.items()\n",
    "items = dictionaries.items()\n",
    "print(\"Key-value pairs:\", items)\n",
    "#dict.keys()\n",
    "keys = dictionaries.keys()\n",
    "print(\"Keys in the dictionary:\", keys)\n"
   ]
  },
  {
   "cell_type": "code",
   "execution_count": 66,
   "id": "ff885eaa",
   "metadata": {},
   "outputs": [
    {
     "name": "stdout",
     "output_type": "stream",
     "text": [
      "Value for key 3: Python\n",
      "Updated dictionary: {0: 'Data', 1: 'GUVI', 2: 'GEEK', 3: 'Python', 4: 'Happy'}\n"
     ]
    }
   ],
   "source": [
    "#dict.setdefault(key[, default])\n",
    "value = dictionaries.setdefault(3, \"Default Value\")\n",
    "print(\"Value for key 3:\", value)\n",
    "print(\"Updated dictionary:\", dictionaries)\n"
   ]
  },
  {
   "cell_type": "code",
   "execution_count": 67,
   "id": "37df8673",
   "metadata": {},
   "outputs": [
    {
     "name": "stdout",
     "output_type": "stream",
     "text": [
      "Updated dictionary: {0: 'Data', 1: 'GUVI', 2: 'GEEK', 3: 'Python', 4: 'Happy', 5: 'New Key', 6: 'New Value'}\n"
     ]
    }
   ],
   "source": [
    "#dict.update(other_dict)\n",
    "other_dict = {5: \"New Key\", 6: \"New Value\"}\n",
    "dictionaries.update(other_dict)\n",
    "print(\"Updated dictionary:\", dictionaries)\n"
   ]
  },
  {
   "cell_type": "code",
   "execution_count": 76,
   "id": "c3f7f0ce",
   "metadata": {},
   "outputs": [
    {
     "name": "stdout",
     "output_type": "stream",
     "text": [
      "Values in the dictionary: dict_values(['Data', 'GUVI', 'GEEK', 'Python', 'Happy', 'New Key', 'New Value'])\n",
      "Cleared dictionary: {}\n"
     ]
    }
   ],
   "source": [
    "#dict.values()\n",
    "values = dictionaries.values()\n",
    "print(\"Values in the dictionary:\", values)\n",
    "#dict.clear()\n",
    "dictionaries.clear()\n",
    "print(\"Cleared dictionary:\", dictionaries)"
   ]
  },
  {
   "cell_type": "code",
   "execution_count": 70,
   "id": "dd2d7e66",
   "metadata": {},
   "outputs": [],
   "source": [
    "#Write if statement 13 is greater than 25?\n",
    "if 13 > 25:\n",
    "    print(\"13 is not greater than 25\")\n",
    "\n"
   ]
  },
  {
   "cell_type": "code",
   "execution_count": 71,
   "id": "84dc0517",
   "metadata": {},
   "outputs": [
    {
     "name": "stdout",
     "output_type": "stream",
     "text": [
      "50 is divisible by 25\n"
     ]
    }
   ],
   "source": [
    "#Write a if else  statement to find if the number is divisible by 25?\n",
    "number = 50 \n",
    "if number % 25 == 0:\n",
    "    print(f\"{number} is divisible by 25\")\n",
    "else:\n",
    "    print(f\"{number} is not divisible by 25\")\n"
   ]
  },
  {
   "cell_type": "code",
   "execution_count": 75,
   "id": "acd81ee2",
   "metadata": {},
   "outputs": [
    {
     "name": "stdout",
     "output_type": "stream",
     "text": [
      "The greatest number among 154 2451 and 6054 is 6054\n"
     ]
    }
   ],
   "source": [
    "#Using the three variables 'a = 154; b = 2451; c = 6054',Write a If...Elif...Else statement to find the greatest number\n",
    "a = 154\n",
    "b = 2451\n",
    "c = 6054\n",
    "\n",
    "if a > b and a > c:\n",
    "    greatest = a\n",
    "elif b > a and b > c:\n",
    "    greatest = b\n",
    "else:\n",
    "    greatest = c\n",
    "\n",
    "print(\"The greatest number among\", a, b, \"and\", c, \"is\", greatest)\n"
   ]
  },
  {
   "cell_type": "code",
   "execution_count": null,
   "id": "83cb9e8d",
   "metadata": {},
   "outputs": [],
   "source": []
  }
 ],
 "metadata": {
  "kernelspec": {
   "display_name": "Python 3 (ipykernel)",
   "language": "python",
   "name": "python3"
  },
  "language_info": {
   "codemirror_mode": {
    "name": "ipython",
    "version": 3
   },
   "file_extension": ".py",
   "mimetype": "text/x-python",
   "name": "python",
   "nbconvert_exporter": "python",
   "pygments_lexer": "ipython3",
   "version": "3.11.4"
  }
 },
 "nbformat": 4,
 "nbformat_minor": 5
}

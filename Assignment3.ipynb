{
 "cells": [
  {
   "cell_type": "code",
   "execution_count": 1,
   "id": "87bebd33",
   "metadata": {},
   "outputs": [
    {
     "name": "stdout",
     "output_type": "stream",
     "text": [
      "x is less than y\n"
     ]
    }
   ],
   "source": [
    "\"\"\"1.\tWrite a program to check whether x is less than y\n",
    "where, x = 20 and y = 30\n",
    "Assigning x equal to 20 Assigning y equal to 30 If condition x is less then y then go to step 4 print x is less then y\"\"\"\n",
    "x = 20\n",
    "y = 30\n",
    "\n",
    "if x < y:\n",
    "    print(\"x is less than y\")\n",
    "\n"
   ]
  },
  {
   "cell_type": "code",
   "execution_count": 3,
   "id": "ad71d39e",
   "metadata": {},
   "outputs": [
    {
     "name": "stdout",
     "output_type": "stream",
     "text": [
      "Invalid score - Total score exceeds 200\n"
     ]
    }
   ],
   "source": [
    "\"\"\"2.\tWrite a program to check whether the total score (theory --> 100 + practical --> 100) is less than or equal to 200. If it goes beyond 200, print an error or a warning message.\n",
    "Hint:\n",
    "Set, Theory equal to 140 Practical equal to 145 If condition for theory + practical is greater than 200 then, print invalid score\n",
    "\"\"\"\n",
    "\n",
    "theory = 140\n",
    "practical = 145\n",
    "total_score = theory + practical\n",
    "\n",
    "if total_score > 200:\n",
    "    print(\"Invalid score - Total score exceeds 200\")\n"
   ]
  },
  {
   "cell_type": "code",
   "execution_count": 5,
   "id": "fb6e064d",
   "metadata": {},
   "outputs": [
    {
     "name": "stdout",
     "output_type": "stream",
     "text": [
      "Enter 'yes' or 'no' to indicate if you passed the subject: No\n",
      "Failed the test\n"
     ]
    }
   ],
   "source": [
    "\"\"\"3.\tWrite a python program to check whether the student has passed the subject based on string input yes/no\n",
    "Hint:\n",
    "Get an user input 'yes' / 'no' pass this to variable named 'Subject' Create a If condition, when the Subject value is 'yes' then print 'Cleared the test', Else print 'Failed the test'\"\"\"\n",
    "\n",
    "Subject = input(\"Enter 'yes' or 'no' to indicate if you passed the subject: \")\n",
    "\n",
    "if Subject == 'yes':\n",
    "    print(\"Cleared the test\")\n",
    "else:\n",
    "    print(\"Failed the test\")\n"
   ]
  },
  {
   "cell_type": "code",
   "execution_count": 7,
   "id": "a02249ec",
   "metadata": {},
   "outputs": [
    {
     "name": "stdout",
     "output_type": "stream",
     "text": [
      "Enter the password: Great\n",
      "Wrong Password\n"
     ]
    }
   ],
   "source": [
    "\"\"\"4.\tWrite a program to get the password from user, check whether the password is 'great'. Through a reply to the user accordingly.\n",
    "Hint:\n",
    "Get password from user, the input statement should be 'Enter the password: ' pass this to variable named 'Password' If passwrod is 'great', print 'Password Accepted' else print 'Wrong Password'\"\"\"\n",
    "Password = input(\"Enter the password: \")\n",
    "\n",
    "if Password == 'great':\n",
    "    print(\"Password Accepted\")\n",
    "else:\n",
    "    print(\"Wrong Password\")\n"
   ]
  },
  {
   "cell_type": "code",
   "execution_count": 9,
   "id": "ec0b124e",
   "metadata": {},
   "outputs": [
    {
     "name": "stdout",
     "output_type": "stream",
     "text": [
      "Enter your age: 15\n",
      "You're a minor and not eligible to work.\n"
     ]
    }
   ],
   "source": [
    "\"\"\"1.\tBased on the users age, divide them in to three groups Group 1 : Age <=18 , Minors who are not eligible to work Group 2 : 18<Age<60 , ELigible to work Group 3 : >=60, Too old to work as per govt. regulations.\n",
    "Write a program for the same\n",
    "Hint:\n",
    "Create variable Name age equal to input if condition for age is < 18 go to step 3 , else go to step 5 print Your Minor not Eligible to Work if condition for age >= 18 and age <= 60 go to step 5 , else go to step 6 print Your Eligible to Work fill in your details and apply print Your too old to work as per the Government rules Please Collect your pension\"\"\"\n",
    "age = int(input(\"Enter your age: \"))\n",
    "\n",
    "if age <= 18:\n",
    "    print(\"You're a minor and not eligible to work.\")\n",
    "elif 18 < age < 60:\n",
    "    print(\"You're eligible to work. Please fill in your details and apply.\")\n",
    "else:\n",
    "    print(\"You're too old to work as per the Government rules. Please collect your pension.\")\n",
    "\n"
   ]
  },
  {
   "cell_type": "code",
   "execution_count": 11,
   "id": "65904703",
   "metadata": {},
   "outputs": [
    {
     "name": "stdout",
     "output_type": "stream",
     "text": [
      "Enter an integer: 5\n",
      "5\n",
      "4\n",
      "3\n",
      "2\n",
      "1\n"
     ]
    }
   ],
   "source": [
    "\"\"\"1.\tTake an integer as input from the user and print all the numbers from 0 to that number in reverse order.\n",
    "Example : if the input is 3, the output should be 3 2 1\n",
    "Hint:\n",
    "Create variable n using input value give the while loop condition i.e. n > 0 then decrement, n = n-1 print n\"\"\"\n",
    "\n",
    "n = int(input(\"Enter an integer: \"))\n",
    "\n",
    "while n > 0:\n",
    "    print(n)\n",
    "    n = n - 1\n"
   ]
  },
  {
   "cell_type": "code",
   "execution_count": 19,
   "id": "c6685826",
   "metadata": {},
   "outputs": [
    {
     "name": "stdout",
     "output_type": "stream",
     "text": [
      "Enter an integer: 10\n",
      "1\n",
      "4\n",
      "9\n",
      "16\n",
      "25\n",
      "36\n",
      "49\n",
      "64\n",
      "81\n",
      "100\n"
     ]
    }
   ],
   "source": [
    "\"\"\"2.\tWrite a python code to find the squares of all the numbers based on an input.\n",
    "Example : If the input is 10, the output should be 11 ,22 ,33...... 1010\n",
    "Hint:\n",
    "Create the variable i assigning to 1 Give the while loop condition for i <= 10 print i ** 2 increment i loop will execute until i is less than or equal to 10\"\"\"\n",
    "n = int(input(\"Enter an integer: \"))\n",
    "\n",
    "i = 1\n",
    "\n",
    "while i <= n:\n",
    "    j=(i ** 2)\n",
    "    print(j)\n",
    "    i += 1\n"
   ]
  },
  {
   "cell_type": "code",
   "execution_count": null,
   "id": "b1bcc4ae",
   "metadata": {},
   "outputs": [],
   "source": [
    "\"\"\"1.\tWrite a pseudocode to print the multiplication table of a given number.\n",
    "Example : if the user input is 3, the output should be like below :\n",
    "3 X 1 = 3 3 X 2 = 6 ... 3 X 10 =30\n",
    "Hint:\n",
    "Get user input and store it in variable n. Give the For loop condition in the range between (1,11) In print statement give the condition (n,'x',i,'=' ,n*i) This will print the multiplication tables of a given number.\"\"\"\n",
    "\n",
    "1. Start\n",
    "2. Input a number and store it in a variable 'n'\n",
    "3. For 'i' in the range from 1 to 11 (inclusive):\n",
    "     1. Calculate 'product' as 'n * i'\n",
    "     2. Print 'n', 'x', 'i', '=', 'product'\n",
    "4. End\n",
    "\n"
   ]
  },
  {
   "cell_type": "code",
   "execution_count": 20,
   "id": "67b60664",
   "metadata": {},
   "outputs": [
    {
     "name": "stdout",
     "output_type": "stream",
     "text": [
      "Enter a number: 3\n",
      "3 X 1 = 3\n",
      "3 X 2 = 6\n",
      "3 X 3 = 9\n",
      "3 X 4 = 12\n",
      "3 X 5 = 15\n",
      "3 X 6 = 18\n",
      "3 X 7 = 21\n",
      "3 X 8 = 24\n",
      "3 X 9 = 27\n",
      "3 X 10 = 30\n"
     ]
    }
   ],
   "source": [
    "#Program\n",
    "n = int(input(\"Enter a number: \"))\n",
    "\n",
    "for i in range(1, 11):\n",
    "    product = n * i\n",
    "    print(f\"{n} X {i} = {product}\")\n"
   ]
  },
  {
   "cell_type": "code",
   "execution_count": 21,
   "id": "23b95234",
   "metadata": {},
   "outputs": [
    {
     "name": "stdout",
     "output_type": "stream",
     "text": [
      "1\n",
      "484\n",
      "196\n",
      "4096\n",
      "961\n",
      "14400\n"
     ]
    }
   ],
   "source": [
    "\"\"\"2.\tWrite a python code to print squares of all numbers present in the list = [1, 22, 14, 64, 31, 120]\n",
    "Hint:\n",
    "Create a list named 'numbers' [1, 22, 14, 64, 31, 120] Create a variable name 'square' and assign 0 to it For loop condition for i in the list square equal to i * i\n",
    "Print square\"\"\"\n",
    "\n",
    "numbers = [1, 22, 14, 64, 31, 120]\n",
    "\n",
    "for number in numbers:\n",
    "    square = number * number\n",
    "    print(square)\n"
   ]
  },
  {
   "cell_type": "code",
   "execution_count": 22,
   "id": "db84a5dd",
   "metadata": {},
   "outputs": [
    {
     "name": "stdout",
     "output_type": "stream",
     "text": [
      "red\n",
      "black\n",
      "blue\n"
     ]
    }
   ],
   "source": [
    "\"\"\"1.\tWrite a python program that takes a list ['red','black','blue'] and prints each element in the list using whle loop\"\"\"\n",
    "my_list = ['red', 'black', 'blue']\n",
    "\n",
    "# Initialize an index to 0\n",
    "index = 0\n",
    "\n",
    "# Use a while loop to iterate through the list\n",
    "while index < len(my_list):\n",
    "    print(my_list[index])\n",
    "    index += 1\n"
   ]
  },
  {
   "cell_type": "code",
   "execution_count": 23,
   "id": "70c4c953",
   "metadata": {},
   "outputs": [
    {
     "name": "stdout",
     "output_type": "stream",
     "text": [
      "red\n",
      "black\n",
      "blue\n"
     ]
    }
   ],
   "source": [
    "\"\"\"2.\tWrite a same program as above using a For loop?\"\"\"\n",
    "my_list = ['red', 'black', 'blue']\n",
    "\n",
    "# Use a for loop to iterate through the list\n",
    "for element in my_list:\n",
    "    print(element)\n"
   ]
  },
  {
   "cell_type": "code",
   "execution_count": 24,
   "id": "a90c4661",
   "metadata": {},
   "outputs": [
    {
     "name": "stdout",
     "output_type": "stream",
     "text": [
      "Enter the first number: 5\n",
      "Enter the second number: 6\n",
      "The LCM of 5 and 6 is 30\n"
     ]
    }
   ],
   "source": [
    "\"\"\"3.\tWrite a Python Program to find the LCM of two numbers?\"\"\"\n",
    "import math\n",
    "def find_lcm(a, b):\n",
    "    # Calculate the LCM using the formula\n",
    "    lcm = (a * b) // math.gcd(a, b)\n",
    "    return lcm\n",
    "num1 = int(input(\"Enter the first number: \"))\n",
    "num2 = int(input(\"Enter the second number: \"))\n",
    "\n",
    "lcm = find_lcm(num1, num2)\n",
    "print(f\"The LCM of {num1} and {num2} is {lcm}\")\n"
   ]
  },
  {
   "cell_type": "code",
   "execution_count": 26,
   "id": "91603440",
   "metadata": {},
   "outputs": [
    {
     "name": "stdout",
     "output_type": "stream",
     "text": [
      "[0, 1, 4, 9, 16, 25, 36, 49, 64, 81, 100]\n"
     ]
    }
   ],
   "source": [
    "\"\"\"\"1.\ti. Write a Python program to get the squares of numbers present in the range of (1-10)\n",
    "●\toutput squares = [0, 1, 4, 9, 16, 25, 36, 49, 64, 81, 100]\"\"\"\n",
    "output_squares = [0, 1, 4, 9, 16, 25, 36, 49, 64, 81, 100]\n",
    "squares = [x ** 2 for x in range(11)]  # Using a list comprehension\n",
    "print(squares)\n"
   ]
  },
  {
   "cell_type": "code",
   "execution_count": 27,
   "id": "2296c303",
   "metadata": {},
   "outputs": [
    {
     "name": "stdout",
     "output_type": "stream",
     "text": [
      "[1, 4, 9, 16, 25, 36, 49, 64, 81, 100]\n"
     ]
    }
   ],
   "source": [
    "#For the same question get the desired output using List Comprehension\n",
    "output_squares = [0, 1, 4, 9, 16, 25, 36, 49, 64, 81, 100]\n",
    "squares = [x ** 2 for x in range(1, 11)]  # Using list comprehension\n",
    "print(squares)\n"
   ]
  },
  {
   "cell_type": "code",
   "execution_count": 28,
   "id": "8b8be9a9",
   "metadata": {},
   "outputs": [
    {
     "name": "stdout",
     "output_type": "stream",
     "text": [
      "['1', '2', '3', '4', '5']\n"
     ]
    }
   ],
   "source": [
    "\"\"\"2.\tConvert a list of integers to a list of strings, using List comprehension\"\"\"\n",
    "int_list = [1, 2, 3, 4, 5]\n",
    "str_list = [str(x) for x in int_list]  # Using list comprehension to convert to strings\n",
    "print(str_list)\n"
   ]
  },
  {
   "cell_type": "code",
   "execution_count": 29,
   "id": "f1b8cac5",
   "metadata": {},
   "outputs": [
    {
     "name": "stdout",
     "output_type": "stream",
     "text": [
      "[(1, 'a'), (1, 'b'), (1, 'c'), (2, 'a'), (2, 'b'), (2, 'c'), (3, 'a'), (3, 'b'), (3, 'c')]\n"
     ]
    }
   ],
   "source": [
    "#3.\tCreate tuples from two lists using List Comprehensions\n",
    "\n",
    "list1 = [1, 2, 3]\n",
    "list2 = ['a', 'b', 'c']\n",
    "\n",
    "# Create tuples from two lists using list comprehension\n",
    "tuple_list = [(x, y) for x in list1 for y in list2]\n",
    "\n",
    "print(tuple_list)\n"
   ]
  },
  {
   "cell_type": "code",
   "execution_count": 31,
   "id": "1bcf8755",
   "metadata": {},
   "outputs": [
    {
     "name": "stdout",
     "output_type": "stream",
     "text": [
      "[(0, 'apple'), (1, 'banana'), (2, 'cherry')]\n"
     ]
    }
   ],
   "source": [
    "#4.\tGet Index of Each Element of List using enumerate in List Comprehension\n",
    "\n",
    "your_list = ['apple', 'banana', 'cherry']\n",
    "\n",
    "index_element_pairs = [(i, your_list[i]) for i in range(len(your_list))]\n",
    "\n",
    "print(index_element_pairs)\n",
    "\n"
   ]
  },
  {
   "cell_type": "code",
   "execution_count": null,
   "id": "7116326e",
   "metadata": {},
   "outputs": [],
   "source": []
  }
 ],
 "metadata": {
  "kernelspec": {
   "display_name": "Python 3 (ipykernel)",
   "language": "python",
   "name": "python3"
  },
  "language_info": {
   "codemirror_mode": {
    "name": "ipython",
    "version": 3
   },
   "file_extension": ".py",
   "mimetype": "text/x-python",
   "name": "python",
   "nbconvert_exporter": "python",
   "pygments_lexer": "ipython3",
   "version": "3.11.4"
  }
 },
 "nbformat": 4,
 "nbformat_minor": 5
}
